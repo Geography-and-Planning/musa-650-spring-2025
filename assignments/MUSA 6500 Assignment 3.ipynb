{
 "cells": [
  {
   "cell_type": "markdown",
   "id": "31cc70ca-2a8b-4268-893d-82a3f96d6415",
   "metadata": {},
   "source": [
    "# MUSA 650 Homework 2: Supervised Land Use Classification with Google Earth Engine\n",
    "\n",
    "In this assignment, you will use Google Earth Engine via Python to implement multi-class land cover classification. You will hand-label Landsat 8 satellite images which you will then use to train a random forest model. Along the way, you will consider practical remote sensing issues like cloud cover, class imbalances, and feature selection.\n",
    "\n",
    "**Given that hand-labeling data can be time-consuming, you are encouraged to work in pairs or groups of three to share the workload. You may collaborate on generating the hand-labeled data, provided you submit separate assignment files. If you choose to do this, you should all use the same ROI, of course.**\n",
    "\n",
    "You are responsible for figuring out the code independently and may refer to tutorials, code examples, or use AI support, but **please cite all sources**.\n",
    "\n",
    "In particular, we encourage you to consult the [official Python Google Earth Engine `geemap` package](https://geemap.org/), the online course [Spatial Thoughts](https://spatialthoughts.com/courses/google-earth-engine/), and the [Google Earth Engine Tutorials book](https://google-earth-engine.com/).\n",
    "\n",
    "Submit a single Jupyter Notebook containing code, narrative text, visualizations, and answers to each question. Please also upload your classification results as a GeoTIFF and your accuracy assessment as a CSV file. Open a pull request from your fork of this repository to the main repository for submission."
   ]
  },
  {
   "cell_type": "markdown",
   "id": "65fe6bbc-b833-4906-ad3d-39dd46f0ed29",
   "metadata": {},
   "source": [
    "## 1. Setup\n",
    "\n",
    "For this assignment, you will define the region of interest (ROI) of your choice. We recommend picking an urban area large enough that you will have a sufficient sample size but not so large that it will take an excessively long time to process.\n",
    "\n",
    "You'll also use Landsat 8 satellite imagery from USGS for this assignment. Choose images from 2023, filtering for images with minimal cloud cover."
   ]
  },
  {
   "cell_type": "code",
   "execution_count": 1,
   "id": "627889e9-c7c7-43c6-99de-fa28a6dc01f5",
   "metadata": {
    "tags": []
   },
   "outputs": [],
   "source": [
    "import ee\n",
    "import geemap\n",
    "import matplotlib.pyplot as plt\n",
    "import numpy as np\n",
    "import seaborn as sns\n",
    "import pandas as pd"
   ]
  },
  {
   "cell_type": "code",
   "execution_count": 2,
   "id": "9dddd5ee-8a04-4fb2-aefc-9d5921576c89",
   "metadata": {
    "tags": []
   },
   "outputs": [
    {
     "data": {
      "text/html": [
       "\n",
       "            <style>\n",
       "                .geemap-dark {\n",
       "                    --jp-widgets-color: white;\n",
       "                    --jp-widgets-label-color: white;\n",
       "                    --jp-ui-font-color1: white;\n",
       "                    --jp-layout-color2: #454545;\n",
       "                    background-color: #383838;\n",
       "                }\n",
       "                    \n",
       "                .geemap-dark .jupyter-button {\n",
       "                    --jp-layout-color3: #383838;\n",
       "                }\n",
       "                \n",
       "                .geemap-colab {\n",
       "                    background-color: var(--colab-primary-surface-color, white);\n",
       "                }\n",
       "                    \n",
       "                .geemap-colab .jupyter-button {\n",
       "                    --jp-layout-color3: var(--colab-primary-surface-color, white);\n",
       "                }\n",
       "            </style>\n",
       "            "
      ],
      "text/plain": [
       "<IPython.core.display.HTML object>"
      ]
     },
     "metadata": {},
     "output_type": "display_data"
    },
    {
     "data": {
      "text/html": [
       "<p>To authorize access needed by Earth Engine, open the following\n",
       "        URL in a web browser and follow the instructions:</p>\n",
       "        <p><a href=https://code.earthengine.google.com/client-auth?scopes=https%3A//www.googleapis.com/auth/earthengine%20https%3A//www.googleapis.com/auth/cloud-platform%20https%3A//www.googleapis.com/auth/devstorage.full_control&request_id=t_vCCl5dSUAAXowGkQ88k2XmzIPOEgJCNT4qTsjodQo&tc=gPrWZF6RcmEZ9VR6yb_GaBjPAvATimk9hNwvmcKFER4&cc=V6za-h3e2OA6b72nj2-ZoLrL0bcZMy51fBtSOLOdQCE>https://code.earthengine.google.com/client-auth?scopes=https%3A//www.googleapis.com/auth/earthengine%20https%3A//www.googleapis.com/auth/cloud-platform%20https%3A//www.googleapis.com/auth/devstorage.full_control&request_id=t_vCCl5dSUAAXowGkQ88k2XmzIPOEgJCNT4qTsjodQo&tc=gPrWZF6RcmEZ9VR6yb_GaBjPAvATimk9hNwvmcKFER4&cc=V6za-h3e2OA6b72nj2-ZoLrL0bcZMy51fBtSOLOdQCE</a></p>\n",
       "        <p>The authorization workflow will generate a code, which you should paste in the box below.</p>\n",
       "        "
      ],
      "text/plain": [
       "<IPython.core.display.HTML object>"
      ]
     },
     "metadata": {},
     "output_type": "display_data"
    },
    {
     "name": "stdin",
     "output_type": "stream",
     "text": [
      "Enter verification code:  4/1AQSTgQFY9ohZSHw_TLWeYG9o9nX4rk3XFl7utFho65k6a7EwKR-II1vWP8Y\n"
     ]
    },
    {
     "name": "stdout",
     "output_type": "stream",
     "text": [
      "\n",
      "Successfully saved authorization token.\n"
     ]
    }
   ],
   "source": [
    "ee.Authenticate()\n",
    "ee.Initialize(project='musa-6500-spring-2025')"
   ]
  },
  {
   "cell_type": "code",
   "execution_count": 3,
   "id": "8f87ceb1-b09a-4700-9d5f-437b0ffa65ee",
   "metadata": {
    "tags": []
   },
   "outputs": [
    {
     "data": {
      "text/html": [
       "\n",
       "            <style>\n",
       "                .geemap-dark {\n",
       "                    --jp-widgets-color: white;\n",
       "                    --jp-widgets-label-color: white;\n",
       "                    --jp-ui-font-color1: white;\n",
       "                    --jp-layout-color2: #454545;\n",
       "                    background-color: #383838;\n",
       "                }\n",
       "                    \n",
       "                .geemap-dark .jupyter-button {\n",
       "                    --jp-layout-color3: #383838;\n",
       "                }\n",
       "                \n",
       "                .geemap-colab {\n",
       "                    background-color: var(--colab-primary-surface-color, white);\n",
       "                }\n",
       "                    \n",
       "                .geemap-colab .jupyter-button {\n",
       "                    --jp-layout-color3: var(--colab-primary-surface-color, white);\n",
       "                }\n",
       "            </style>\n",
       "            "
      ],
      "text/plain": [
       "<IPython.core.display.HTML object>"
      ]
     },
     "metadata": {},
     "output_type": "display_data"
    }
   ],
   "source": [
    "# Region of Interest: Seattle\n",
    "seattle = ee.FeatureCollection(\"TIGER/2018/Counties\").filter(ee.Filter.eq(\"NAME\", \"King\"))\n",
    "\n",
    "# Apply scaling factor to Landsat bands\n",
    "def applyScaleFactor(landsat):\n",
    "  opticalBands = landsat.select(\"SR_B.\").multiply(0.0000275).add(-0.2)\n",
    "  return landsat.addBands(opticalBands, None, True)\n",
    "\n",
    "# Load Landsat 8 Collection\n",
    "# Pull the image for the least cloudy day in 2023\n",
    "seattle_landsat = (ee.ImageCollection(\"LANDSAT/LC08/C02/T1_L2\")\n",
    "           .filterDate(\"2023-01-01\", \"2023-12-31\")  # Filter for 2023\n",
    "           .filterBounds(seattle)  # Filter for Seattle area\n",
    "           .map(applyScaleFactor)  # Apply scaling factor to the bands\n",
    "           .sort(\"CLOUD_COVER\")  # Sort by cloud cover percentage (least cloudy)\n",
    "           .first()  # Select the least cloudy image\n",
    "           .clip(seattle))  # Clip the image to the Seattle boundary"
   ]
  },
  {
   "cell_type": "code",
   "execution_count": 4,
   "id": "0642e742-8944-4ee3-8461-f2032b2023ee",
   "metadata": {
    "tags": []
   },
   "outputs": [
    {
     "data": {
      "text/html": [
       "\n",
       "            <style>\n",
       "                .geemap-dark {\n",
       "                    --jp-widgets-color: white;\n",
       "                    --jp-widgets-label-color: white;\n",
       "                    --jp-ui-font-color1: white;\n",
       "                    --jp-layout-color2: #454545;\n",
       "                    background-color: #383838;\n",
       "                }\n",
       "                    \n",
       "                .geemap-dark .jupyter-button {\n",
       "                    --jp-layout-color3: #383838;\n",
       "                }\n",
       "                \n",
       "                .geemap-colab {\n",
       "                    background-color: var(--colab-primary-surface-color, white);\n",
       "                }\n",
       "                    \n",
       "                .geemap-colab .jupyter-button {\n",
       "                    --jp-layout-color3: var(--colab-primary-surface-color, white);\n",
       "                }\n",
       "            </style>\n",
       "            "
      ],
      "text/plain": [
       "<IPython.core.display.HTML object>"
      ]
     },
     "metadata": {},
     "output_type": "display_data"
    }
   ],
   "source": [
    "# Visualization Settings for Seattle image\n",
    "visualization = {\n",
    "  \"bands\": [\"SR_B4\", \"SR_B3\", \"SR_B2\"],  # True color (red, green, blue)\n",
    "  \"min\": 0.0,\n",
    "  \"max\": 0.3\n",
    "}"
   ]
  },
  {
   "cell_type": "code",
   "execution_count": 5,
   "id": "b26df4f5-9260-4094-a739-613258fdabd5",
   "metadata": {
    "tags": []
   },
   "outputs": [
    {
     "data": {
      "text/html": [
       "\n",
       "            <style>\n",
       "                .geemap-dark {\n",
       "                    --jp-widgets-color: white;\n",
       "                    --jp-widgets-label-color: white;\n",
       "                    --jp-ui-font-color1: white;\n",
       "                    --jp-layout-color2: #454545;\n",
       "                    background-color: #383838;\n",
       "                }\n",
       "                    \n",
       "                .geemap-dark .jupyter-button {\n",
       "                    --jp-layout-color3: #383838;\n",
       "                }\n",
       "                \n",
       "                .geemap-colab {\n",
       "                    background-color: var(--colab-primary-surface-color, white);\n",
       "                }\n",
       "                    \n",
       "                .geemap-colab .jupyter-button {\n",
       "                    --jp-layout-color3: var(--colab-primary-surface-color, white);\n",
       "                }\n",
       "            </style>\n",
       "            "
      ],
      "text/plain": [
       "<IPython.core.display.HTML object>"
      ]
     },
     "metadata": {},
     "output_type": "display_data"
    },
    {
     "data": {
      "application/vnd.jupyter.widget-view+json": {
       "model_id": "002d3a60de0e41099a95ffd7a07ae7a0",
       "version_major": 2,
       "version_minor": 0
      },
      "text/plain": [
       "Map(center=[44.00893381351633, -114.78422347345357], controls=(WidgetControl(options=['position', 'transparent…"
      ]
     },
     "execution_count": 5,
     "metadata": {},
     "output_type": "execute_result"
    }
   ],
   "source": [
    "# Create Map for visualization (using geemap or other interface)\n",
    "Map = geemap.Map()\n",
    "Map.centerObject(seattle, 10)  # Zoom to Seattle\n",
    "Map.addLayer(seattle_landsat, visualization, \"True Color (432)\")\n",
    "Map"
   ]
  },
  {
   "cell_type": "markdown",
   "id": "abf8a34a-2918-4f88-95f8-8299d3fbba90",
   "metadata": {},
   "source": [
    "## 2. Data Collection and Feature Engineering\n",
    "\n",
    "### 2.1 Collecting and Labeling Training Data\n",
    "\n",
    "Using the [interactive `geemap` intereface](https://www.youtube.com/watch?v=VWh5PxXPZw0) or another approach (e.g., QGIS, ArcGIS, a GeoJSON file, etc.), create at least 100 samples (points or polygons) for each of the following four classes: urban, bare, water, and vegetation. (Again, we encourage you to work in pairs or groups of three to generate these hand labels.) Use visual cues and manual inspection to ensure that the samples are accurate. Assign each class a unique label (e.g., 0 for urban, 1 for bare, 2 for water, and 3 for vegetation) and merge the labeled samples into a single dataset. You are free to propose any labels you like, as long as 1) you include at least 4 classes, and 2) you justify why they are appropriate for a remote sensing task (for example, including a label for ice cream shops wouldn't make sense, because those can't be detected from aerial imagery)."
   ]
  },
  {
   "cell_type": "markdown",
   "id": "5ff54520-8856-4bd1-b4a3-c18d2100a1e8",
   "metadata": {},
   "source": [
    "### 2.2 Feature Engineering.\n",
    "\n",
    "For possible use in the model, calculate and add the following spectral indices:\n",
    "\n",
    "- **NDVI** (Normalized Difference Vegetation Index)\n",
    "- **NDBI** (Normalized Difference Built-up Index)\n",
    "- **MNDWI** (Modified Normalized Difference Water Index)\n",
    "\n",
    "Additionally, add elevation and slope data from a DEM. Normalize all image bands to a 0 to 1 scale for consistent model input.\n",
    "\n",
    "For bonus points, consider adding [kernel filters](https://google-earth-engine.com/Advanced-Image-Processing/Neighborhood-based-Image-Transformation/) (e.g., edge detection, smoothing) to see if they improve model performance."
   ]
  },
  {
   "cell_type": "markdown",
   "id": "02cf8998-6c6a-4dea-90e9-2e95ddde9c04",
   "metadata": {},
   "source": [
    "## 3. Model Training and Evaluation\n",
    "\n",
    "### 3.1 Model Training\n",
    "\n",
    "Split your data into a training dataset (70%) and a validation dataset (30%). Train and evaluate a random forest model using the training set with all engineered features.\n",
    "\n",
    "After training, analyze [variable importance scores](https://stackoverflow.com/questions/74519767/interpreting-variable-importance-from-random-forest-in-gee) to justify each feature's inclusion. Identify which features are most influential in the classification. Report the final features that you keep in your model."
   ]
  },
  {
   "cell_type": "markdown",
   "id": "f4834b6f-0d64-4317-8177-102e565ec304",
   "metadata": {},
   "source": [
    "### 3.2 Accuracy Assessment\n",
    "\n",
    "Use the trained model to classify the Landsat 8 image, creating a land cover classification map with classes for urban, bare, water, and vegetation (or whatever classes you have chosen).\n",
    "\n",
    "Using the validation data, generate a confusion matrix and calculate the overall accuracy, precision, and recall. Which classes were confused most often with each other? Why do you think this was?\n",
    "\n",
    "Visually compare your landcover data for your ROI with the corresponding [landcover data from the European Space Agency](https://developers.google.com/earth-engine/datasets/catalog/ESA_WorldCover_v200). Do your classifications agree? If not, do you notice any patterns in the types of landcover where they differ, or any particular features in the imagery that are hard for your model to recognize (e.g., sand, water, or asphalt)?\n",
    "\n",
    "Export the classified image as a GeoTIFF and the confusion matrix and accuracy metrics to a CSV file for documentation."
   ]
  },
  {
   "cell_type": "markdown",
   "id": "ca3209ad-622d-4394-b42b-88533cfc0e9a",
   "metadata": {},
   "source": [
    "## 4. Reflection Questions\n",
    "\n",
    "What limitations did you run into when completing this assignment? What might you do differently if you repeated it, or what might you change if you had more time and/or resources?\n",
    "\n",
    "What was the impact of feature engineering? Which layers most contributed to the model? Did you expect this? Why or why not?\n",
    "\n",
    "Did you find it difficult to create the training data by hand? Did you notice any issues with class imbalance? If so, how might you resolve this in the future (hint: consider a different sampling technique).\n",
    "\n",
    "Did your model perform better on one class than another? Why? Can you think of a reason that this might be good or bad depending on the context?"
   ]
  }
 ],
 "metadata": {
  "kernelspec": {
   "display_name": "musa-650-spring-2025",
   "language": "python",
   "name": "musa-650-spring-2025"
  },
  "language_info": {
   "codemirror_mode": {
    "name": "ipython",
    "version": 3
   },
   "file_extension": ".py",
   "mimetype": "text/x-python",
   "name": "python",
   "nbconvert_exporter": "python",
   "pygments_lexer": "ipython3",
   "version": "3.11.9"
  }
 },
 "nbformat": 4,
 "nbformat_minor": 5
}
